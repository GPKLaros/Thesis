{
 "cells": [
  {
   "cell_type": "code",
   "execution_count": 8,
   "id": "ffff8af6-443d-4504-a67f-c6ddfeb057ba",
   "metadata": {},
   "outputs": [
    {
     "name": "stdout",
     "output_type": "stream",
     "text": [
      "{'bootstrap': True,\n",
      " 'ccp_alpha': 0.0,\n",
      " 'criterion': 'mse',\n",
      " 'max_depth': None,\n",
      " 'max_features': 'auto',\n",
      " 'max_leaf_nodes': None,\n",
      " 'max_samples': None,\n",
      " 'min_impurity_decrease': 0.0,\n",
      " 'min_impurity_split': None,\n",
      " 'min_samples_leaf': 1,\n",
      " 'min_samples_split': 2,\n",
      " 'min_weight_fraction_leaf': 0.0,\n",
      " 'n_estimators': 100,\n",
      " 'n_jobs': None,\n",
      " 'oob_score': False,\n",
      " 'random_state': 1,\n",
      " 'verbose': 0,\n",
      " 'warm_start': False}\n"
     ]
    }
   ],
   "source": [
    "import pandas as pd\n",
    "import numpy as np\n",
    "from sklearn.feature_selection import SelectFromModel\n",
    "from scipy.io import arff\n",
    "from sklearn.model_selection import GridSearchCV\n",
    "from pprint import pprint\n",
    "\n",
    "model_data = pd.read_csv('MLRdata_without_clubs.csv', sep=',')\n",
    "y = model_data['fee_cleaned']\n",
    "X = model_data.drop(columns =['fee_cleaned'])\n",
    "y_log = np.log(y)\n",
    "from sklearn.model_selection import train_test_split\n",
    "X_train, X_test, y_train, y_test = train_test_split(X, y, test_size=0.20, random_state = 1)\n",
    "\n",
    "#Standard Scaling only on the train set rather than the whole dataset (https://stats.stackexchange.com/questions/111467/is-it-necessary-to-scale-the-target-value-in-addition-to-scaling-features-for-re)\n",
    "from sklearn.preprocessing import StandardScaler\n",
    "sc_X = StandardScaler()\n",
    "X_train = sc_X.fit_transform(X_train)\n",
    "X_test = sc_X.fit_transform(X_test)\n",
    "\n",
    "#https://towardsdatascience.com/hyperparameter-tuning-the-random-forest-in-python-using-scikit-learn-28d2aa77dd74\n",
    "from pprint import pprint\n",
    "from sklearn.ensemble import RandomForestRegressor\n",
    "rf = RandomForestRegressor(random_state = 1)\n",
    "rf.fit(X_train, y_train)\n",
    "pprint(rf.get_params())"
   ]
  },
  {
   "cell_type": "code",
   "execution_count": 9,
   "id": "fd8a44ed-3f67-4eed-b997-6332353053f4",
   "metadata": {},
   "outputs": [
    {
     "name": "stdout",
     "output_type": "stream",
     "text": [
      "RF (Base): Cross Validation\n",
      "R^2: 0.6172674143067256\n",
      "RMSE: 6.887389039614378\n"
     ]
    }
   ],
   "source": [
    "from sklearn.model_selection import cross_validate\n",
    "base_scores = cross_validate(rf, X_train, y_train, cv=10, scoring=('r2', 'neg_root_mean_squared_error'), return_train_score=True)\n",
    "print('RF (Base): Cross Validation')\n",
    "print('R^2:', base_scores['test_r2'].mean())\n",
    "print('RMSE:', -1 * base_scores['test_neg_root_mean_squared_error'].mean())"
   ]
  },
  {
   "cell_type": "code",
   "execution_count": 10,
   "id": "6d00f217-0096-416d-83b1-5415584f88cd",
   "metadata": {},
   "outputs": [
    {
     "name": "stdout",
     "output_type": "stream",
     "text": [
      "Fitting 5 folds for each of 200 candidates, totalling 1000 fits\n",
      "{'bootstrap': True,\n",
      " 'max_depth': 126,\n",
      " 'max_features': 'auto',\n",
      " 'min_samples_leaf': 2,\n",
      " 'min_samples_split': 2,\n",
      " 'n_estimators': 176}\n"
     ]
    }
   ],
   "source": [
    "from sklearn.model_selection import RandomizedSearchCV\n",
    "# Number of trees in random forest\n",
    "n_estimators = [int(x) for x in np.linspace(start = 10, stop = 200, num = 50)]\n",
    "n_estimators.append(100)\n",
    "# Number of features to consider at every split\n",
    "max_features = ['auto', 'sqrt']\n",
    "# Maximum number of levels in tree\n",
    "max_depth = [int(x) for x in np.linspace(10, 200, num = 50)]\n",
    "max_depth.append(None)\n",
    "# Minimum number of samples required to split a node\n",
    "min_samples_split = [int(x) for x in np.linspace(2, 20, num = 18)]\n",
    "min_samples_split.append(2)\n",
    "# Minimum number of samples required at each leaf node\n",
    "min_samples_leaf = [int(x) for x in np.linspace(1, 50, num = 50)]\n",
    "min_samples_leaf.append(1)\n",
    "# Method of selecting samples for training each tree\n",
    "bootstrap = [True, False]\n",
    "# Create the random grid\n",
    "random_grid = {'n_estimators': n_estimators,\n",
    "               'max_features': max_features,\n",
    "               'max_depth': max_depth,\n",
    "               'min_samples_split': min_samples_split,\n",
    "               'min_samples_leaf': min_samples_leaf,\n",
    "               'bootstrap': bootstrap}\n",
    "# Use the random grid to search for best hyperparameters\n",
    "# First create the base model to tune\n",
    "rf = RandomForestRegressor(random_state = 1)\n",
    "# Random search of parameters, using 5 fold cross validation, \n",
    "# search across 100 different combinations, and use all available cores\n",
    "rf_random = RandomizedSearchCV(estimator = rf, param_distributions = random_grid, n_iter = 200, cv = 5, verbose=2, random_state=1, n_jobs = -1)\n",
    "# Fit the random search model\n",
    "rf_random.fit(X_train, y_train)\n",
    "pprint(rf_random.best_params_)"
   ]
  },
  {
   "cell_type": "code",
   "execution_count": 11,
   "id": "f13a0d7a-6161-4c1d-ad27-be2cccb0ba79",
   "metadata": {},
   "outputs": [
    {
     "name": "stdout",
     "output_type": "stream",
     "text": [
      "RF (Random): Cross Validation\n",
      "R^2: 0.6321526032331317\n",
      "RMSE: 6.751350584874527\n"
     ]
    }
   ],
   "source": [
    "rf_random_best_params = RandomForestRegressor(**rf_random.best_params_)\n",
    "rf_random_best_params\n",
    "random_scores = cross_validate(rf_random_best_params, X_train, y_train, cv=10, scoring=('r2','neg_root_mean_squared_error'), return_train_score=True)\n",
    "print('RF (Random): Cross Validation')\n",
    "print('R^2:', random_scores['test_r2'].mean())\n",
    "print('RMSE:', -1 * random_scores['test_neg_root_mean_squared_error'].mean())"
   ]
  },
  {
   "cell_type": "code",
   "execution_count": 8,
   "id": "96f7933a-54c4-4237-b89a-c3d0eb77a7b8",
   "metadata": {},
   "outputs": [
    {
     "name": "stdout",
     "output_type": "stream",
     "text": [
      "Fitting 5 folds for each of 108 candidates, totalling 540 fits\n"
     ]
    },
    {
     "data": {
      "text/plain": [
       "{'bootstrap': True,\n",
       " 'max_depth': 75,\n",
       " 'max_features': 'auto',\n",
       " 'min_samples_leaf': 2,\n",
       " 'min_samples_split': 2,\n",
       " 'n_estimators': 130}"
      ]
     },
     "execution_count": 8,
     "metadata": {},
     "output_type": "execute_result"
    }
   ],
   "source": [
    "from sklearn.model_selection import GridSearchCV\n",
    "# Create the parameter grid based on the results of random search \n",
    "param_grid = {\n",
    "    'bootstrap': [True],\n",
    "    'max_depth': [60, 80, 126],\n",
    "    'max_features': ['auto'],\n",
    "    'min_samples_leaf': [2, 4, 8],\n",
    "    'min_samples_split': [2, 6, 10],\n",
    "    'n_estimators': [120,150,176]\n",
    "}\n",
    "# Create a base model\n",
    "rf = RandomForestRegressor(random_state = 1)\n",
    "\n",
    "# Instantiate the grid search model\n",
    "grid_search = GridSearchCV(estimator = rf, param_grid = param_grid, \n",
    "                          cv = 5, n_jobs = -1, verbose = 2, return_train_score=True)\n",
    "grid_search.fit(X_train, y_train)\n",
    "grid_search.best_params_"
   ]
  },
  {
   "cell_type": "code",
   "execution_count": 9,
   "id": "7d2f2095-dae9-45d9-8af9-037f5a0bb3bd",
   "metadata": {},
   "outputs": [
    {
     "name": "stdout",
     "output_type": "stream",
     "text": [
      "RF (Grid1): Cross Validation\n",
      "R^2: 0.6215322634545453\n",
      "RMSE: 6.833464204676934\n"
     ]
    }
   ],
   "source": [
    "grid_search_best_params = RandomForestRegressor(**grid_search.best_params_)\n",
    "grid_search_best_params\n",
    "grid_search = cross_validate(grid_search_best_params, X_train, y_train, cv=10, scoring=('r2', 'neg_root_mean_squared_error'), return_train_score=True)\n",
    "print('RF (Grid1): Cross Validation')\n",
    "print('R^2:', grid_search['test_r2'].mean())\n",
    "print('RMSE:', -1 * grid_search['test_neg_root_mean_squared_error'].mean())"
   ]
  },
  {
   "cell_type": "code",
   "execution_count": 11,
   "id": "166b7c5c-5112-49ec-9b9f-b3c2de5a9a3f",
   "metadata": {},
   "outputs": [
    {
     "name": "stdout",
     "output_type": "stream",
     "text": [
      "Fitting 5 folds for each of 4 candidates, totalling 20 fits\n"
     ]
    },
    {
     "data": {
      "text/plain": [
       "{'bootstrap': True,\n",
       " 'max_depth': 75,\n",
       " 'max_features': 'auto',\n",
       " 'min_samples_leaf': 2,\n",
       " 'min_samples_split': 2,\n",
       " 'n_estimators': 176}"
      ]
     },
     "execution_count": 11,
     "metadata": {},
     "output_type": "execute_result"
    }
   ],
   "source": [
    "param_grid = {\n",
    "    'bootstrap': [True],\n",
    "    'max_depth': [60,126],\n",
    "    'max_features': ['auto'],\n",
    "    'min_samples_leaf': [2],\n",
    "    'min_samples_split': [2],\n",
    "    'n_estimators': [176, 150]\n",
    "}\n",
    "# Create a base model\n",
    "rf = RandomForestRegressor(random_state = 1)\n",
    "\n",
    "# Instantiate the grid search model\n",
    "grid_search2 = GridSearchCV(estimator = rf, param_grid = param_grid, \n",
    "                          cv = 5, n_jobs = -1, verbose = 2, return_train_score=True)\n",
    "grid_search2.fit(X_train, y_train)\n",
    "grid_search2.best_params_"
   ]
  },
  {
   "cell_type": "code",
   "execution_count": 12,
   "id": "81c588b1-0f9f-49aa-9cd4-40706e2eb993",
   "metadata": {},
   "outputs": [
    {
     "name": "stdout",
     "output_type": "stream",
     "text": [
      "RF (Grid2): Cross Validation\n",
      "R^2: 0.6274883440037197\n",
      "RMSE: 6.786024518453866\n"
     ]
    }
   ],
   "source": [
    "grid_search2_best_params = RandomForestRegressor(**grid_search2.best_params_)\n",
    "grid_search2_best_params\n",
    "#random_state added here\n",
    "grid_search2 = cross_validate(grid_search2_best_params, X_train, y_train, cv=10, scoring=('r2', 'neg_root_mean_squared_error'), return_train_score=True)\n",
    "print('RF (Grid2): Cross Validation')\n",
    "print('R^2:', grid_search2['test_r2'].mean())\n",
    "print('RMSE:', -1 * grid_search2['test_neg_root_mean_squared_error'].mean())"
   ]
  },
  {
   "cell_type": "code",
   "execution_count": 12,
   "id": "cd4ffc92-176c-42b4-9995-dded6f3ce529",
   "metadata": {},
   "outputs": [
    {
     "name": "stdout",
     "output_type": "stream",
     "text": [
      "Performance on validation set\n",
      "RF (Base): Cross Validation\n",
      "R^2: 0.6172674143067256\n",
      "RMSE: 6.887389039614378\n",
      "\n",
      "RF (Random): Cross Validation\n",
      "R^2: 0.6283728809866675\n",
      "RMSE: 6.777115053969661\n",
      "\n",
      "RF (Grid1): Cross Validation\n",
      "R^2: 0.6217943867431124\n",
      "RMSE: 6.855779859278131\n",
      "\n",
      "RF (Grid2): Cross Validation\n",
      "R^2: 0.6261777291191472\n",
      "RMSE: 6.807110377515014\n",
      "\n"
     ]
    }
   ],
   "source": [
    "print('Performance on validation set')\n",
    "print('RF (Base): Cross Validation')\n",
    "print('R^2:', base_scores['test_r2'].mean())\n",
    "print('RMSE:', -1 * base_scores['test_neg_root_mean_squared_error'].mean())\n",
    "print()\n",
    "print('RF (Random): Cross Validation')\n",
    "print('R^2:', random_scores['test_r2'].mean())\n",
    "print('RMSE:', -1 * random_scores['test_neg_root_mean_squared_error'].mean())\n",
    "print()\n",
    "print('RF (Grid1): Cross Validation')\n",
    "print('R^2:', grid_search['test_r2'].mean())\n",
    "print('RMSE:', -1 * grid_search['test_neg_root_mean_squared_error'].mean())\n",
    "print()\n",
    "print('RF (Grid2): Cross Validation')\n",
    "print('R^2:', grid_search2['test_r2'].mean())\n",
    "print('RMSE:', -1 * grid_search2['test_neg_root_mean_squared_error'].mean())\n",
    "print()"
   ]
  },
  {
   "cell_type": "code",
   "execution_count": 13,
   "id": "347f331a-3a9f-4ff4-af81-7981870443c6",
   "metadata": {},
   "outputs": [
    {
     "name": "stdout",
     "output_type": "stream",
     "text": [
      "Performance on test set\n",
      "R^2: 0.6718009184705624\n",
      "RMSE: 6.045506349332103\n"
     ]
    }
   ],
   "source": [
    "from sklearn.metrics import r2_score\n",
    "from sklearn.metrics import mean_squared_error\n",
    "import math\n",
    "grid_search2_best_params.fit(X_train, y_train)\n",
    "predictions_test_set = grid_search2_best_params.predict(X_test)\n",
    "r2_score_test_set = r2_score(y_test, predictions_test_set)\n",
    "mse_test_set = mean_squared_error(y_test, predictions_test_set)\n",
    "rmse_test_set = math.sqrt(mse_test_set)\n",
    "print('Performance on test set')\n",
    "print('R^2:', r2_score_test_set)\n",
    "print('RMSE:', rmse_test_set)"
   ]
  },
  {
   "cell_type": "code",
   "execution_count": 4,
   "id": "3832dcdd-ebd5-4da5-bf2d-463fe99a0d4c",
   "metadata": {},
   "outputs": [
    {
     "name": "stdout",
     "output_type": "stream",
     "text": [
      "RF (Final): Cross Validation\n",
      "R^2: 0.6257825021585689\n",
      "RMSE: 6.805911927242777\n"
     ]
    },
    {
     "ename": "NameError",
     "evalue": "name 'r2_score' is not defined",
     "output_type": "error",
     "traceback": [
      "\u001b[1;31m---------------------------------------------------------------------------\u001b[0m",
      "\u001b[1;31mNameError\u001b[0m                                 Traceback (most recent call last)",
      "\u001b[1;32m<ipython-input-4-6fb18a1a8802>\u001b[0m in \u001b[0;36m<module>\u001b[1;34m\u001b[0m\n\u001b[0;32m     10\u001b[0m \u001b[1;33m\u001b[0m\u001b[0m\n\u001b[0;32m     11\u001b[0m \u001b[0mpredictions_test_set\u001b[0m \u001b[1;33m=\u001b[0m \u001b[0mfinal_rf\u001b[0m\u001b[1;33m.\u001b[0m\u001b[0mpredict\u001b[0m\u001b[1;33m(\u001b[0m\u001b[0mX_test\u001b[0m\u001b[1;33m)\u001b[0m\u001b[1;33m\u001b[0m\u001b[1;33m\u001b[0m\u001b[0m\n\u001b[1;32m---> 12\u001b[1;33m \u001b[0mr2_score_test_set\u001b[0m \u001b[1;33m=\u001b[0m \u001b[0mr2_score\u001b[0m\u001b[1;33m(\u001b[0m\u001b[0my_test\u001b[0m\u001b[1;33m,\u001b[0m \u001b[0mpredictions_test_set\u001b[0m\u001b[1;33m)\u001b[0m\u001b[1;33m\u001b[0m\u001b[1;33m\u001b[0m\u001b[0m\n\u001b[0m\u001b[0;32m     13\u001b[0m \u001b[0mmse_test_set\u001b[0m \u001b[1;33m=\u001b[0m \u001b[0mmean_squared_error\u001b[0m\u001b[1;33m(\u001b[0m\u001b[0my_test\u001b[0m\u001b[1;33m,\u001b[0m \u001b[0mpredictions_test_set\u001b[0m\u001b[1;33m)\u001b[0m\u001b[1;33m\u001b[0m\u001b[1;33m\u001b[0m\u001b[0m\n\u001b[0;32m     14\u001b[0m \u001b[0mrmse_test_set\u001b[0m \u001b[1;33m=\u001b[0m \u001b[0mmath\u001b[0m\u001b[1;33m.\u001b[0m\u001b[0msqrt\u001b[0m\u001b[1;33m(\u001b[0m\u001b[0mmse_test_set\u001b[0m\u001b[1;33m)\u001b[0m\u001b[1;33m\u001b[0m\u001b[1;33m\u001b[0m\u001b[0m\n",
      "\u001b[1;31mNameError\u001b[0m: name 'r2_score' is not defined"
     ]
    }
   ],
   "source": [
    "from sklearn.ensemble import RandomForestRegressor\n",
    "final_rf = RandomForestRegressor(bootstrap = True, max_depth = 36, max_features = 'auto', min_samples_leaf = 2, min_samples_split = 5, n_estimators = 170)\n",
    "\n",
    "final_rf_cv = cross_validate(final_rf, X_train, y_train, cv=10, scoring=('r2', 'neg_root_mean_squared_error'), return_train_score=True)\n",
    "print('RF (Final): Cross Validation')\n",
    "print('R^2:', final_rf_cv['test_r2'].mean())\n",
    "print('RMSE:', -1 * final_rf_cv['test_neg_root_mean_squared_error'].mean())\n",
    "\n",
    "final_rf.fit(X_train, y_train)\n",
    "\n",
    "predictions_test_set = final_rf.predict(X_test)\n",
    "r2_score_test_set = r2_score(y_test, predictions_test_set)\n",
    "mse_test_set = mean_squared_error(y_test, predictions_test_set)\n",
    "rmse_test_set = math.sqrt(mse_test_set)\n",
    "print('Performance on test set')\n",
    "print('R^2:', r2_score_test_set)\n",
    "print('RMSE:', rmse_test_set)"
   ]
  }
 ],
 "metadata": {
  "kernelspec": {
   "display_name": "Python 3",
   "language": "python",
   "name": "python3"
  },
  "language_info": {
   "codemirror_mode": {
    "name": "ipython",
    "version": 3
   },
   "file_extension": ".py",
   "mimetype": "text/x-python",
   "name": "python",
   "nbconvert_exporter": "python",
   "pygments_lexer": "ipython3",
   "version": "3.8.8"
  }
 },
 "nbformat": 4,
 "nbformat_minor": 5
}
