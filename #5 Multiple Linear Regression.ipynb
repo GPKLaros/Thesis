{
 "cells": [
  {
   "cell_type": "code",
   "execution_count": 9,
   "id": "2ef85924-2501-47ef-9fb2-5c7a094f786f",
   "metadata": {},
   "outputs": [],
   "source": [
    "import pandas as pd\n",
    "from numpy import asarray\n",
    "model_data = pd.read_csv('MLRdata_without_clubs.csv', sep=',')\n",
    "y = model_data['fee_cleaned']\n",
    "X = model_data.drop(columns =['fee_cleaned'])\n",
    "\n",
    "import numpy\n",
    "#log test\n",
    "y_log = numpy.log(y)\n",
    "\n",
    "from sklearn.model_selection import train_test_split\n",
    "X_train, X_test, y_train, y_test = train_test_split(X, y_log, test_size=0.20, random_state = 1)\n",
    "#Standard Scaling only on the train set rather than the whole dataset (https://stats.stackexchange.com/questions/111467/is-it-necessary-to-scale-the-target-value-in-addition-to-scaling-features-for-re)\n",
    "#from sklearn.preprocessing import StandardScaler\n",
    "#sc_X = StandardScaler()\n",
    "#X_train = sc_X.fit_transform(X_train)\n",
    "#X_test = sc_X.fit_transform(X_test)\n",
    "\n",
    "from sklearn.linear_model import LinearRegression\n",
    "lr = LinearRegression()"
   ]
  },
  {
   "cell_type": "code",
   "execution_count": 10,
   "id": "bee30504-f6b7-475a-9570-701c15f878d7",
   "metadata": {},
   "outputs": [
    {
     "name": "stdout",
     "output_type": "stream",
     "text": [
      "Multiple Linear Regression: Cross Validation\n",
      "R^2: 0.6004390004264092\n",
      "RMSE: 0.8642721165380705\n"
     ]
    }
   ],
   "source": [
    "from sklearn.model_selection import cross_validate\n",
    "scores = cross_validate(lr, X_train, y_train, cv=10, scoring=('r2', 'neg_root_mean_squared_error'), return_train_score=True)\n",
    "print('Multiple Linear Regression: Cross Validation')\n",
    "print('R^2:', scores['test_r2'].mean())\n",
    "print('RMSE:', -1 * scores['test_neg_root_mean_squared_error'].mean())\n"
   ]
  },
  {
   "cell_type": "code",
   "execution_count": 24,
   "id": "a8e91af1-0db1-4e2d-8ce9-ef26bd0563a1",
   "metadata": {},
   "outputs": [
    {
     "name": "stdout",
     "output_type": "stream",
     "text": [
      "Multiple Linear Regression: Test\n",
      "R^2: 0.49810128918831664\n",
      "RMSE: 0.9772965759955192\n"
     ]
    }
   ],
   "source": [
    "from sklearn.metrics import r2_score\n",
    "from sklearn.metrics import mean_squared_error\n",
    "import math\n",
    "lr.fit(X_train, y_train)\n",
    "y_test_pred = lr.predict(X_test)\n",
    "r2_score_test = r2_score(y_test, y_test_pred)\n",
    "mse_test = mean_squared_error(y_test, y_test_pred)\n",
    "rmse_test = math.sqrt(mse_test)\n",
    "\n",
    "print('Multiple Linear Regression: Test')\n",
    "print('R^2:', r2_score_test)\n",
    "print('RMSE:', rmse_test)\n"
   ]
  }
 ],
 "metadata": {
  "kernelspec": {
   "display_name": "Python 3",
   "language": "python",
   "name": "python3"
  },
  "language_info": {
   "codemirror_mode": {
    "name": "ipython",
    "version": 3
   },
   "file_extension": ".py",
   "mimetype": "text/x-python",
   "name": "python",
   "nbconvert_exporter": "python",
   "pygments_lexer": "ipython3",
   "version": "3.8.8"
  }
 },
 "nbformat": 4,
 "nbformat_minor": 5
}
