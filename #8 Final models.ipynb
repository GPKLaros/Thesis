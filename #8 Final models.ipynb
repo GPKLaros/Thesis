{
 "cells": [
  {
   "cell_type": "code",
   "execution_count": 1,
   "id": "a7e06ea9-2f31-47f1-af5e-4f19f1ab96b4",
   "metadata": {},
   "outputs": [],
   "source": [
    "import pandas as pd\n",
    "import numpy as np\n",
    "from sklearn.model_selection import GridSearchCV\n",
    "from sklearn.metrics import r2_score\n",
    "from sklearn.metrics import mean_squared_error\n",
    "import math\n",
    "from sklearn.model_selection import cross_validate\n",
    "\n",
    "from sklearn.linear_model import LinearRegression\n",
    "from sklearn.svm import SVR\n",
    "from sklearn.ensemble import RandomForestRegressor\n",
    "old_data = pd.read_csv('Old_data.csv', sep=',')\n",
    "model_data = pd.read_csv('MLRdata_without_clubs.csv', sep=',')\n",
    "y = model_data['fee_cleaned']\n",
    "X = model_data.drop(columns =['fee_cleaned'])\n",
    "z = model_data[['buying_league_Championship', 'buying_league_Eredivisie', 'buying_league_Liga Nos','buying_league_Ligue 1','buying_league_Premier League','buying_league_Primera Division','buying_league_Serie A']]\n",
    "y_log = np.log(y)\n",
    "\n",
    "from sklearn.model_selection import train_test_split\n",
    "X_train, X_test, y_train, y_test = train_test_split(X, y, test_size=0.20, random_state = 1)\n",
    "X_train_log, X_test_log, y_train_log, y_test_log = train_test_split(X, y_log, test_size=0.20, random_state = 1)\n",
    "X_train_log_base, X_test_log_base, y_train_log_base, y_test_log_base = train_test_split(z, y_log, test_size=0.20, random_state = 1)\n",
    "\n",
    "#Standard Scaling only on the train set rather than the whole dataset (https://stats.stackexchange.com/questions/111467/is-it-necessary-to-scale-the-target-value-in-addition-to-scaling-features-for-re)\n",
    "from sklearn.preprocessing import StandardScaler\n",
    "sc_X = StandardScaler()\n",
    "X_train = sc_X.fit_transform(X_train)\n",
    "X_test = sc_X.fit_transform(X_test)"
   ]
  },
  {
   "cell_type": "code",
   "execution_count": 3,
   "id": "d4a9c144-a8b7-4dc2-b786-b1bcd4611ed6",
   "metadata": {},
   "outputs": [
    {
     "name": "stdout",
     "output_type": "stream",
     "text": [
      "Simple Linear Regression: Cross Validation\n",
      "R^2: 0.20366733729528058\n",
      "RMSE: 1.2218768120797026\n",
      "\n",
      "Simple Linear Regression: Test\n",
      "R^2: 0.18907896994015416\n",
      "RMSE: 10.439153356690955\n"
     ]
    }
   ],
   "source": [
    "#Simple Linear Regression\n",
    "lr = LinearRegression()\n",
    "final_base = cross_validate(lr, X_train_log_base, y_train_log_base, cv=10, scoring=('r2','neg_root_mean_squared_error'), return_train_score=True)\n",
    "print('Simple Linear Regression: Cross Validation')\n",
    "print('R^2:', final_base['test_r2'].mean())\n",
    "print('RMSE:', -1 * final_base['test_neg_root_mean_squared_error'].mean())\n",
    "lr.fit(X_train_log_base, y_train_log_base)\n",
    "y_pred = lr.predict(X_test_log_base)\n",
    "\n",
    "y_pred_exp = np.exp(y_pred)\n",
    "y_test_log_base_exp = np.exp(y_test_log_base)\n",
    "\n",
    "r2_score_base = r2_score(y_test_log_base, y_pred)\n",
    "mse = mean_squared_error(y_test_log_base_exp, y_pred_exp)\n",
    "rmse_base = math.sqrt(mse)\n",
    "print()\n",
    "print('Simple Linear Regression: Test')\n",
    "print('R^2:', r2_score_base)\n",
    "print('RMSE:', rmse_base)"
   ]
  },
  {
   "cell_type": "code",
   "execution_count": 4,
   "id": "cc8367c3-9e01-48ed-bb15-a1cced92d95f",
   "metadata": {},
   "outputs": [
    {
     "name": "stdout",
     "output_type": "stream",
     "text": [
      "Multiple Linear Regression: Cross Validation\n",
      "R^2: 0.6004390004264092\n",
      "RMSE: 0.8642721165380705\n",
      "\n",
      "Multiple Linear Regression: Test\n",
      "R^2: 0.6152762518734943\n",
      "RMSE: 6.322265555182988\n"
     ]
    }
   ],
   "source": [
    "#Multiple Linear Regression\n",
    "lr = LinearRegression()\n",
    "final_mlr = cross_validate(lr, X_train_log, y_train_log, cv=10, scoring=('r2','neg_root_mean_squared_error'), return_train_score=True)\n",
    "print('Multiple Linear Regression: Cross Validation')\n",
    "print('R^2:', final_mlr['test_r2'].mean())\n",
    "print('RMSE:', -1 * final_mlr['test_neg_root_mean_squared_error'].mean())\n",
    "lr.fit(X_train_log, y_train_log)\n",
    "y_test_pred = lr.predict(X_test_log)\n",
    "\n",
    "y_test_pred_exp = np.exp(y_test_pred)\n",
    "y_test_log_exp = np.exp(y_test_log)\n",
    "\n",
    "r2_score_mlr = r2_score(y_test_log, y_test_pred)\n",
    "mse_test = mean_squared_error(y_test_log_exp, y_test_pred_exp)\n",
    "rmse_mlr = math.sqrt(mse_test)\n",
    "print()\n",
    "print('Multiple Linear Regression: Test')\n",
    "print('R^2:', r2_score_mlr)\n",
    "print('RMSE:', rmse_mlr)"
   ]
  },
  {
   "cell_type": "code",
   "execution_count": 12,
   "id": "1308d06e-3327-4a0f-baa2-866879195ad9",
   "metadata": {},
   "outputs": [
    {
     "name": "stdout",
     "output_type": "stream",
     "text": [
      "SVR: Cross Validation\n",
      "R^2: 0.6204354509566915\n",
      "RMSE: 0.8428912243895791\n",
      "\n",
      "SVR: test set\n",
      "R^2: 0.6196559906351666\n",
      "RMSE: 6.508071132562496\n"
     ]
    }
   ],
   "source": [
    "#Support Vector Regression\n",
    "final_svr = SVR(C= 38, epsilon= 0.3, gamma = 0.001, kernel= 'rbf')\n",
    "X_train_log_stan = sc_X.fit_transform(X_train_log)\n",
    "X_test_log_stan = sc_X.fit_transform(X_test_log)\n",
    "final_svr_cv = cross_validate(final_svr, X_train_log_stan, y_train_log, cv=10, scoring=('r2', 'neg_root_mean_squared_error'), return_train_score=True)\n",
    "print('SVR: Cross Validation')\n",
    "print('R^2:', final_svr_cv['test_r2'].mean())\n",
    "print('RMSE:', -1 * final_svr_cv['test_neg_root_mean_squared_error'].mean())\n",
    "final_svr.fit(X_train_log_stan, y_train_log)\n",
    "predictions_test = final_svr.predict(X_test_log_stan)\n",
    "\n",
    "y_pred_exp = np.exp(predictions_test)\n",
    "y_test_exp = np.exp(y_test_log)\n",
    "\n",
    "r2_score_svr = r2_score(y_test_exp, y_pred_exp)\n",
    "mse_test = mean_squared_error(y_test_exp, y_pred_exp)\n",
    "rmse_svr = math.sqrt(mse_test)\n",
    "print()\n",
    "print('SVR: test set')\n",
    "print('R^2:', r2_score_svr)\n",
    "print('RMSE:', rmse_svr)"
   ]
  },
  {
   "cell_type": "code",
   "execution_count": 6,
   "id": "95dfe77e-dad0-49d5-970c-9e8ae65fe29a",
   "metadata": {},
   "outputs": [
    {
     "name": "stdout",
     "output_type": "stream",
     "text": [
      "RF: Cross Validation\n",
      "R^2: 0.6226687935553712\n",
      "RMSE: 6.844633302022444\n",
      "\n",
      "RF: test set\n",
      "R^2: 0.6784610680242718\n",
      "RMSE: 5.983851172079099\n"
     ]
    }
   ],
   "source": [
    "#Random Forest Regression\n",
    "final_rf = RandomForestRegressor(bootstrap = True, max_depth = 60, max_features = 'auto', min_samples_leaf = 2, min_samples_split = 2, n_estimators = 176, random_state = 1)\n",
    "\n",
    "final_rf_cv = cross_validate(final_rf, X_train, y_train, cv=10, scoring=('r2', 'neg_root_mean_squared_error'), return_train_score=True)\n",
    "print('RF: Cross Validation')\n",
    "print('R^2:', final_rf_cv['test_r2'].mean())\n",
    "print('RMSE:', -1 * final_rf_cv['test_neg_root_mean_squared_error'].mean())\n",
    "\n",
    "final_rf.fit(X_train, y_train)\n",
    "\n",
    "predictions_test_set = final_rf.predict(X_test)\n",
    "r2_score_rf = r2_score(y_test, predictions_test_set)\n",
    "mse_test_set = mean_squared_error(y_test, predictions_test_set)\n",
    "rmse_rf = math.sqrt(mse_test_set)\n",
    "print()\n",
    "print('RF: test set')\n",
    "print('R^2:', r2_score_rf)\n",
    "print('RMSE:', rmse_rf)"
   ]
  },
  {
   "cell_type": "code",
   "execution_count": 7,
   "id": "576b5452-ad25-4893-a60c-efdfd9212ad0",
   "metadata": {},
   "outputs": [
    {
     "data": {
      "text/html": [
       "<div>\n",
       "<style scoped>\n",
       "    .dataframe tbody tr th:only-of-type {\n",
       "        vertical-align: middle;\n",
       "    }\n",
       "\n",
       "    .dataframe tbody tr th {\n",
       "        vertical-align: top;\n",
       "    }\n",
       "\n",
       "    .dataframe thead th {\n",
       "        text-align: right;\n",
       "    }\n",
       "</style>\n",
       "<table border=\"1\" class=\"dataframe\">\n",
       "  <thead>\n",
       "    <tr style=\"text-align: right;\">\n",
       "      <th></th>\n",
       "      <th>RMSE</th>\n",
       "      <th>R2</th>\n",
       "    </tr>\n",
       "  </thead>\n",
       "  <tbody>\n",
       "    <tr>\n",
       "      <th>Baseline</th>\n",
       "      <td>10.439153</td>\n",
       "      <td>0.189079</td>\n",
       "    </tr>\n",
       "    <tr>\n",
       "      <th>Multiple Linear Regression</th>\n",
       "      <td>6.322266</td>\n",
       "      <td>0.615276</td>\n",
       "    </tr>\n",
       "    <tr>\n",
       "      <th>Support Vector Regression</th>\n",
       "      <td>6.595922</td>\n",
       "      <td>0.609318</td>\n",
       "    </tr>\n",
       "    <tr>\n",
       "      <th>Random Forest Regression</th>\n",
       "      <td>5.979501</td>\n",
       "      <td>0.678928</td>\n",
       "    </tr>\n",
       "  </tbody>\n",
       "</table>\n",
       "</div>"
      ],
      "text/plain": [
       "                                 RMSE        R2\n",
       "Baseline                    10.439153  0.189079\n",
       "Multiple Linear Regression   6.322266  0.615276\n",
       "Support Vector Regression    6.595922  0.609318\n",
       "Random Forest Regression     5.979501  0.678928"
      ]
     },
     "execution_count": 7,
     "metadata": {},
     "output_type": "execute_result"
    }
   ],
   "source": [
    "data = {'RMSE': [rmse_base,rmse_mlr,rmse_svr,rmse_rf],\n",
    "        'R2': [r2_score_base,r2_score_mlr,r2_score_svr,r2_score_rf]\n",
    "}\n",
    "df = pd.DataFrame(data, index = ['Baseline', 'Multiple Linear Regression', 'Support Vector Regression', 'Random Forest Regression'])\n",
    "\n",
    "df"
   ]
  },
  {
   "cell_type": "code",
   "execution_count": 18,
   "id": "97f80e03-241e-4c04-8f9e-bc43c692ef2d",
   "metadata": {},
   "outputs": [
    {
     "data": {
      "text/plain": [
       "<matplotlib.legend.Legend at 0x1b92ac12280>"
      ]
     },
     "execution_count": 18,
     "metadata": {},
     "output_type": "execute_result"
    },
    {
     "data": {
      "image/png": "[encoded data removed]",
      "text/plain": [
       "<Figure size 648x432 with 1 Axes>"
      ]
     },
     "metadata": {
      "needs_background": "light"
     },
     "output_type": "display_data"
    }
   ],
   "source": [
    "import matplotlib.pyplot as plt\n",
    "dict_plot_frame = df.to_dict()\n",
    "dict_plot_frame = dict_plot_frame.get('RMSE')\n",
    "import matplotlib.pyplot as plt\n",
    "keys = list(dict_plot_frame.keys())\n",
    "values = list(dict_plot_frame.values())\n",
    "fig = plt.figure(figsize=(9, 6))\n",
    "plt.plot(keys, values)\n",
    "plt.bar(keys, values, width = 0.005, color = 'grey')\n",
    "plt.grid(axis = 'y')\n",
    "plt.xlabel('Model')\n",
    "plt.ylabel('RMSE (in millions of Euros)')\n",
    "plt.legend(['RMSE'])\n",
    "plt.legend(['RMSE (in millions of Euros)'])"
   ]
  },
  {
   "cell_type": "code",
   "execution_count": 3,
   "id": "07314b35-1c73-4639-b4f8-10df839ff752",
   "metadata": {},
   "outputs": [
    {
     "data": {
      "image/png": "[encoded data removed]",
      "text/plain": [
       "<Figure size 648x648 with 1 Axes>"
      ]
     },
     "metadata": {
      "needs_background": "light"
     },
     "output_type": "display_data"
    }
   ],
   "source": [
    "# get importance\n",
    "importance = final_rf.feature_importances_\n",
    "# summarize feature importance\n",
    "#https://stackoverflow.com/questions/34649969/how-to-find-the-features-names-of-the-coefficients-using-scikit-linear-regressio\n",
    "coef_dict = {}\n",
    "for coef, feat in zip(final_rf.feature_importances_,X):\n",
    "    coef_dict[feat] = coef\n",
    "import pandas as pd\n",
    "coef_dataframe = pd.DataFrame.from_dict(coef_dict, orient='index')\n",
    "order_dataframe = coef_dataframe.sort_values(by=[0])\n",
    "order_dataframe = order_dataframe.round(8)\n",
    "plot_frame = order_dataframe[(order_dataframe > 0.0108).all(1)]\n",
    "dict_plot_frame = plot_frame.to_dict()\n",
    "dict_plot_frame = dict_plot_frame.get(0)\n",
    "import matplotlib.pyplot as plt\n",
    "keys = list(dict_plot_frame.keys())\n",
    "values = list(dict_plot_frame.values())\n",
    "fig = plt.figure(figsize=(9, 9))\n",
    "  \n",
    "# creating the bar plot\n",
    "plt.barh(keys, values)\n",
    "plt.xlabel('Impurity-based feature importance')\n",
    "plt.ylabel('Feature')\n",
    "plt.show()"
   ]
  },
  {
   "cell_type": "code",
   "execution_count": 11,
   "id": "681a0a33-bec3-49f5-bd6a-5814db21650b",
   "metadata": {},
   "outputs": [
    {
     "data": {
      "image/png": "[encoded data removed]",
      "text/plain": [
       "<Figure size 432x288 with 1 Axes>"
      ]
     },
     "metadata": {
      "needs_background": "light"
     },
     "output_type": "display_data"
    }
   ],
   "source": [
    "plt.hist(y, bins = 100)\n",
    "plt.xlabel('Transfer fee (in millions)')\n",
    "plt.ylabel('Count')\n",
    "plt.show()"
   ]
  },
  {
   "cell_type": "code",
   "execution_count": 12,
   "id": "f1efa717-c3a1-4c20-9e18-3403ef48574b",
   "metadata": {},
   "outputs": [
    {
     "data": {
      "text/plain": [
       "count    3636.000000\n",
       "mean        7.141985\n",
       "std        11.410079\n",
       "min         0.023000\n",
       "25%         1.350000\n",
       "50%         3.150000\n",
       "75%         8.550000\n",
       "max       199.800000\n",
       "Name: fee_cleaned, dtype: float64"
      ]
     },
     "execution_count": 12,
     "metadata": {},
     "output_type": "execute_result"
    }
   ],
   "source": [
    "model_data['fee_cleaned'].describe()"
   ]
  },
  {
   "cell_type": "code",
   "execution_count": 13,
   "id": "b85547d5-5f3b-4bda-ad1e-c502e7e3681d",
   "metadata": {},
   "outputs": [
    {
     "data": {
      "image/png": "[encoded data removed]",
      "text/plain": [
       "<Figure size 432x288 with 1 Axes>"
      ]
     },
     "metadata": {
      "needs_background": "light"
     },
     "output_type": "display_data"
    }
   ],
   "source": [
    "plt.hist(y_log, bins = 100)\n",
    "plt.xlabel('Log transformed transfer fee')\n",
    "plt.ylabel('Count')\n",
    "plt.show()"
   ]
  },
  {
   "cell_type": "code",
   "execution_count": 15,
   "id": "37926679-e68a-45b7-8cf6-82cb760b1a9c",
   "metadata": {},
   "outputs": [
    {
     "data": {
      "text/plain": [
       "<matplotlib.collections.PathCollection at 0x1b92ab3bca0>"
      ]
     },
     "execution_count": 15,
     "metadata": {},
     "output_type": "execute_result"
    },
    {
     "data": {
      "image/png": "[encoded data removed]",
      "text/plain": [
       "<Figure size 432x288 with 1 Axes>"
      ]
     },
     "metadata": {
      "needs_background": "light"
     },
     "output_type": "display_data"
    }
   ],
   "source": [
    "import matplotlib.pyplot as plt\n",
    "plt.scatter(model_data['potential'],model_data['fee_cleaned'])"
   ]
  }
 ],
 "metadata": {
  "kernelspec": {
   "display_name": "Python 3",
   "language": "python",
   "name": "python3"
  },
  "language_info": {
   "codemirror_mode": {
    "name": "ipython",
    "version": 3
   },
   "file_extension": ".py",
   "mimetype": "text/x-python",
   "name": "python",
   "nbconvert_exporter": "python",
   "pygments_lexer": "ipython3",
   "version": "3.8.8"
  }
 },
 "nbformat": 4,
 "nbformat_minor": 5
}
