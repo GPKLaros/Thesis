{
 "cells": [
  {
   "cell_type": "code",
   "execution_count": 22,
   "id": "3e317c6f-8e5e-4940-b037-68b6e29a500e",
   "metadata": {},
   "outputs": [],
   "source": [
    "import pandas as pd\n",
    "from numpy import asarray\n",
    "model_data = pd.read_csv('MLRdata_without_clubs.csv', sep=',')\n",
    "y = model_data['fee_cleaned']\n",
    "X = model_data[['buying_league_Championship', 'buying_league_Eredivisie', 'buying_league_Liga Nos','buying_league_Ligue 1','buying_league_Premier League','buying_league_Primera Division','buying_league_Serie A']]\n",
    "\n",
    "import numpy\n",
    "y_log = numpy.log(y)\n",
    "from sklearn.model_selection import train_test_split\n",
    "X_train, X_test, y_train, y_test = train_test_split(X, y_log, test_size=0.20, random_state = 1)\n",
    "#Standard Scaling only on the train set rather than the whole dataset (https://stats.stackexchange.com/questions/111467/is-it-necessary-to-scale-the-target-value-in-addition-to-scaling-features-for-re)\n",
    "#from sklearn.preprocessing import StandardScaler\n",
    "#sc_X = StandardScaler()\n",
    "#X_train = sc_X.fit_transform(X_train)\n",
    "#X_test = sc_X.fit_transform(X_test)\n",
    "\n",
    "from sklearn.linear_model import LinearRegression\n",
    "lr = LinearRegression()\n"
   ]
  },
  {
   "cell_type": "code",
   "execution_count": 23,
   "id": "a6a6b1de-3f55-4588-a45e-7a223e4d761f",
   "metadata": {},
   "outputs": [
    {
     "name": "stdout",
     "output_type": "stream",
     "text": [
      "Simple Linear Regression: Cross Validation\n",
      "R^2: 0.1245127828813617\n",
      "RMSE: 10.568152222425706\n"
     ]
    }
   ],
   "source": [
    "from sklearn.model_selection import cross_validate\n",
    "scores = cross_validate(lr, X_train, y_train, cv=10, scoring=('r2', 'neg_root_mean_squared_error'), return_train_score=True)\n",
    "print('Simple Linear Regression: Cross Validation')\n",
    "print('R^2:', scores['test_r2'].mean())\n",
    "print('RMSE:', -1 * scores['test_neg_root_mean_squared_error'].mean())"
   ]
  },
  {
   "cell_type": "code",
   "execution_count": 51,
   "id": "e3fac0c1-3d1c-4c51-b9a3-f32eca057ebc",
   "metadata": {},
   "outputs": [
    {
     "name": "stdout",
     "output_type": "stream",
     "text": [
      "Multiple Linear Regression\n",
      "R^2: 0.22813671502789512\n",
      "RMSE: 3.382110956335862\n"
     ]
    }
   ],
   "source": [
    "from sklearn.metrics import r2_score\n",
    "from sklearn.metrics import mean_squared_error\n",
    "import math\n",
    "lr.fit(X_train, y_train)\n",
    "y_pred = lr.predict(X_test)\n",
    "y_pred_rmse = numpy.exp(y_pred)\n",
    "r2_score = r2_score(y_test, y_pred)\n",
    "mse = mean_squared_error(y_test, y_pred_rmse)\n",
    "rmse = math.sqrt(mse)\n",
    "print('Multiple Linear Regression')\n",
    "print('R^2:', r2_score)\n",
    "print('RMSE:', rmse)"
   ]
  }
 ],
 "metadata": {
  "kernelspec": {
   "display_name": "Python 3",
   "language": "python",
   "name": "python3"
  },
  "language_info": {
   "codemirror_mode": {
    "name": "ipython",
    "version": 3
   },
   "file_extension": ".py",
   "mimetype": "text/x-python",
   "name": "python",
   "nbconvert_exporter": "python",
   "pygments_lexer": "ipython3",
   "version": "3.8.8"
  }
 },
 "nbformat": 4,
 "nbformat_minor": 5
}
